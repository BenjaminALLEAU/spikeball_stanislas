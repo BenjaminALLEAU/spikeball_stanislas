{
 "cells": [
  {
   "cell_type": "markdown",
   "metadata": {},
   "source": [
    "# Creation_data\n",
    "\n",
    "- Script a vocation de récupérer des données de fichiers HTML\n",
    "- Auteur : Benjamin ALLEAU / benjamin.fraime@gmail.com"
   ]
  },
  {
   "cell_type": "markdown",
   "metadata": {},
   "source": [
    "# Packages"
   ]
  },
  {
   "cell_type": "code",
   "execution_count": 5,
   "metadata": {},
   "outputs": [],
   "source": [
    "from bs4 import BeautifulSoup\n",
    "import pandas as pd\n",
    "import re\n",
    "import os"
   ]
  },
  {
   "cell_type": "markdown",
   "metadata": {},
   "source": [
    "# Fonctions"
   ]
  },
  {
   "cell_type": "code",
   "execution_count": 6,
   "metadata": {},
   "outputs": [],
   "source": [
    "\n",
    "# Charger le fichier HTML\n",
    "def recuperateur_resultat(path_file):\n",
    "    with open(path_file, \"r\", encoding=\"utf-8\") as file:\n",
    "        soup = BeautifulSoup(file, \"html.parser\")\n",
    "\n",
    "    # Extraire les matchs\n",
    "    games = []\n",
    "    match_elements = soup.find_all(\"div\", class_=\"Match__Container-sc-exmma4-0\")\n",
    "\n",
    "    for match in match_elements:\n",
    "        court = match.find(\"div\", class_=\"subtitle\").text.strip().replace(\"Court \", \"\")\n",
    "        teams = match.find_all(\"div\", class_=\"Match__TeamContainer-sc-exmma4-3\")[0]\n",
    "        # Utiliser une regex pour extraire les noms des joueurs\n",
    "        equipes = re.findall(r'>([\\wÀ-ÿ\\.\\-]+\\s[\\wÀ-ÿ\\.\\-]+/[\\wÀ-ÿ\\.\\-]+\\s[\\wÀ-ÿ\\.\\-]+)<', str(teams))\n",
    "\n",
    "        if len(equipes) == 2:\n",
    "            eq1_joueurs = equipes[0].split(\"/\")\n",
    "            eq2_joueurs = equipes[1].split(\"/\")\n",
    "\n",
    "        ## Recuperation des scores\n",
    "        scores = match.find_all(\"input\", class_=\"MatchGame__StyledInput-sc-1asd8lj-1\")\n",
    "        scores1 = str(scores[0])\n",
    "        match = re.search(r'value=\"(\\d+)\"', scores1)\n",
    "        resultat1 = match.group(1) if match else None\n",
    "        scores2 = str(scores[1])\n",
    "        match = re.search(r'value=\"(\\d+)\"', scores2)\n",
    "        resultat2 = match.group(1) if match else None  \n",
    "        games.append([court,eq1_joueurs[0].strip(),eq1_joueurs[1].strip(),eq2_joueurs[0].strip(),eq2_joueurs[1].strip(),resultat1,resultat2])\n",
    "            \n",
    "\n",
    "    df = pd.DataFrame(games, columns=[\"Num Court\", \"Eq1 Joueur 1\", \"Eq1 Joueur 2\", \"Eq2 Joueur 1\", \"Eq2 Joueur 2\", \"Score Eq1\", \"Score Eq2\"])\n",
    "    return df\n",
    "\n",
    "def apply_function_to_html_files(directory, function):\n",
    "    \"\"\"\n",
    "    Applique une fonction à tous les fichiers HTML dans un répertoire donné.\n",
    "\n",
    "    Args:\n",
    "        directory (str): Le chemin du répertoire contenant les fichiers HTML.\n",
    "        function (callable): La fonction à appliquer aux fichiers HTML.\n",
    "    \"\"\"\n",
    "    # Parcourir tous les fichiers dans le répertoire\n",
    "    list_res = []\n",
    "    i = 1\n",
    "    for filename in os.listdir(directory):\n",
    "        print(i)\n",
    "        print(filename)\n",
    "        # Vérifier si le fichier a l'extension .html\n",
    "        if filename.endswith('.html'):\n",
    "            # Construire le chemin complet du fichier\n",
    "            file_path = os.path.join(directory, filename)\n",
    "            # Appliquer la fonction au fichier\n",
    "            res_temp = function(file_path)\n",
    "            res_temp[\"week\"] = i\n",
    "            print(len(res_temp))\n",
    "            list_res.append(res_temp)\n",
    "            i += 1\n",
    "\n",
    "    return list_res\n"
   ]
  },
  {
   "cell_type": "markdown",
   "metadata": {},
   "source": [
    "# Traitement des données "
   ]
  },
  {
   "cell_type": "code",
   "execution_count": 7,
   "metadata": {},
   "outputs": [
    {
     "name": "stdout",
     "output_type": "stream",
     "text": [
      "1\n",
      "Fwango1.html\n",
      "30\n",
      "2\n",
      "Fwango1_files\n",
      "2\n",
      "Fwango2.html\n",
      "24\n",
      "3\n",
      "Fwango2_files\n",
      "3\n",
      "Fwango3.html\n",
      "30\n",
      "4\n",
      "Fwango3_files\n",
      "4\n",
      "Fwango4.html\n",
      "30\n",
      "5\n",
      "Fwango4_files\n",
      "5\n",
      "Fwango5.html\n",
      "30\n",
      "6\n",
      "Fwango5_files\n"
     ]
    }
   ],
   "source": [
    "directory_path = 'data'\n",
    "\n",
    "# Appliquer la fonction example_function à tous les fichiers HTML dans le répertoire\n",
    "list_res = apply_function_to_html_files(directory_path, recuperateur_resultat)\n",
    "df_resultat = pd.concat(list_res)\n"
   ]
  },
  {
   "cell_type": "markdown",
   "metadata": {},
   "source": [
    "# Affichage des résultats"
   ]
  },
  {
   "cell_type": "code",
   "execution_count": 8,
   "metadata": {},
   "outputs": [
    {
     "data": {
      "text/html": [
       "<div>\n",
       "<style scoped>\n",
       "    .dataframe tbody tr th:only-of-type {\n",
       "        vertical-align: middle;\n",
       "    }\n",
       "\n",
       "    .dataframe tbody tr th {\n",
       "        vertical-align: top;\n",
       "    }\n",
       "\n",
       "    .dataframe thead th {\n",
       "        text-align: right;\n",
       "    }\n",
       "</style>\n",
       "<table border=\"1\" class=\"dataframe\">\n",
       "  <thead>\n",
       "    <tr style=\"text-align: right;\">\n",
       "      <th></th>\n",
       "      <th>Num Court</th>\n",
       "      <th>Eq1 Joueur 1</th>\n",
       "      <th>Eq1 Joueur 2</th>\n",
       "      <th>Eq2 Joueur 1</th>\n",
       "      <th>Eq2 Joueur 2</th>\n",
       "      <th>Score Eq1</th>\n",
       "      <th>Score Eq2</th>\n",
       "      <th>week</th>\n",
       "    </tr>\n",
       "  </thead>\n",
       "  <tbody>\n",
       "    <tr>\n",
       "      <th>0</th>\n",
       "      <td>1</td>\n",
       "      <td>Théophane F.</td>\n",
       "      <td>Clement L.</td>\n",
       "      <td>Simon P.</td>\n",
       "      <td>Luis A.</td>\n",
       "      <td>17</td>\n",
       "      <td>18</td>\n",
       "      <td>1</td>\n",
       "    </tr>\n",
       "    <tr>\n",
       "      <th>1</th>\n",
       "      <td>2</td>\n",
       "      <td>Jean-Francois C.</td>\n",
       "      <td>Guillaume G.</td>\n",
       "      <td>Félix D.</td>\n",
       "      <td>Daphnée D.</td>\n",
       "      <td>14</td>\n",
       "      <td>18</td>\n",
       "      <td>1</td>\n",
       "    </tr>\n",
       "    <tr>\n",
       "      <th>2</th>\n",
       "      <td>3</td>\n",
       "      <td>Thomas L.</td>\n",
       "      <td>Raphael B.</td>\n",
       "      <td>Benjamin A.</td>\n",
       "      <td>Guillaume M.</td>\n",
       "      <td>17</td>\n",
       "      <td>18</td>\n",
       "      <td>1</td>\n",
       "    </tr>\n",
       "    <tr>\n",
       "      <th>3</th>\n",
       "      <td>4</td>\n",
       "      <td>Nil M.</td>\n",
       "      <td>Sophie L.</td>\n",
       "      <td>Maxime B.</td>\n",
       "      <td>Caroline N.</td>\n",
       "      <td>8</td>\n",
       "      <td>18</td>\n",
       "      <td>1</td>\n",
       "    </tr>\n",
       "    <tr>\n",
       "      <th>4</th>\n",
       "      <td>5</td>\n",
       "      <td>Vincent C.</td>\n",
       "      <td>Sarah J.</td>\n",
       "      <td>Solene M.</td>\n",
       "      <td>Fanette B.</td>\n",
       "      <td>10</td>\n",
       "      <td>18</td>\n",
       "      <td>1</td>\n",
       "    </tr>\n",
       "  </tbody>\n",
       "</table>\n",
       "</div>"
      ],
      "text/plain": [
       "  Num Court      Eq1 Joueur 1  Eq1 Joueur 2 Eq2 Joueur 1  Eq2 Joueur 2  \\\n",
       "0         1      Théophane F.    Clement L.     Simon P.       Luis A.   \n",
       "1         2  Jean-Francois C.  Guillaume G.     Félix D.    Daphnée D.   \n",
       "2         3         Thomas L.    Raphael B.  Benjamin A.  Guillaume M.   \n",
       "3         4            Nil M.     Sophie L.    Maxime B.   Caroline N.   \n",
       "4         5        Vincent C.      Sarah J.    Solene M.    Fanette B.   \n",
       "\n",
       "  Score Eq1 Score Eq2  week  \n",
       "0        17        18     1  \n",
       "1        14        18     1  \n",
       "2        17        18     1  \n",
       "3         8        18     1  \n",
       "4        10        18     1  "
      ]
     },
     "execution_count": 8,
     "metadata": {},
     "output_type": "execute_result"
    }
   ],
   "source": [
    "df_resultat.head(5)"
   ]
  },
  {
   "cell_type": "code",
   "execution_count": 9,
   "metadata": {},
   "outputs": [],
   "source": [
    "df_resultat.to_pickle(\"data_preprocess/df_resultat.pkl\")"
   ]
  },
  {
   "cell_type": "code",
   "execution_count": 10,
   "metadata": {},
   "outputs": [],
   "source": [
    "df_resultat.to_csv(\"data_preprocess/df_resultat.csv\",index=False)"
   ]
  },
  {
   "cell_type": "code",
   "execution_count": null,
   "metadata": {},
   "outputs": [],
   "source": []
  }
 ],
 "metadata": {
  "kernelspec": {
   "display_name": ".venv",
   "language": "python",
   "name": "python3"
  },
  "language_info": {
   "codemirror_mode": {
    "name": "ipython",
    "version": 3
   },
   "file_extension": ".py",
   "mimetype": "text/x-python",
   "name": "python",
   "nbconvert_exporter": "python",
   "pygments_lexer": "ipython3",
   "version": "3.11.1"
  }
 },
 "nbformat": 4,
 "nbformat_minor": 2
}
