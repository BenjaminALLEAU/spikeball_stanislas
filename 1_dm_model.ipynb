{
 "cells": [
  {
   "cell_type": "markdown",
   "metadata": {},
   "source": [
    "# dm_model\n",
    "- Script pour préparer les données à la modélisation et à l'affichage dans l'app streamlit\n",
    "- Auteur : Benjamin ALLEAU / benjamin.fraime@gmail.com"
   ]
  },
  {
   "cell_type": "markdown",
   "metadata": {},
   "source": [
    "# Package"
   ]
  },
  {
   "cell_type": "code",
   "execution_count": 3,
   "metadata": {},
   "outputs": [],
   "source": [
    "import pandas as pd"
   ]
  },
  {
   "cell_type": "code",
   "execution_count": 4,
   "metadata": {},
   "outputs": [],
   "source": [
    "\n",
    "# Charger le fichier pickle\n",
    "df = pd.read_pickle('data_preprocess/df_resultat.pkl')\n",
    "\n",
    "# Transformer le tableau en format détaillé pour chaque joueur\n",
    "expanded_rows = []\n",
    "\n",
    "for _, row in df.iterrows():\n",
    "    num_court = row[\"Num Court\"]\n",
    "    eq1_j1, eq1_j2 = row[\"Eq1 Joueur 1\"], row[\"Eq1 Joueur 2\"]\n",
    "    eq2_j1, eq2_j2 = row[\"Eq2 Joueur 1\"], row[\"Eq2 Joueur 2\"]\n",
    "    score_eq1, score_eq2 = int(row[\"Score Eq1\"]),int(row[\"Score Eq2\"])\n",
    "    week = row[\"week\"]\n",
    "    \n",
    "    # Calculer la différence de score et déterminer le statut (gagné/perdu)\n",
    "    diff_score = abs(score_eq1 - score_eq2)\n",
    "    eq1_won = score_eq1 > score_eq2\n",
    "    eq2_won = not eq1_won\n",
    "    \n",
    "    # Ajouter les joueurs avec leurs informations respectives\n",
    "    expanded_rows.extend([\n",
    "        {\"Num Court\": num_court, \"Joueur\": eq1_j1, \"Coéquipier\": eq1_j2, \"Adversaires\": f\"{eq2_j1}, {eq2_j2}\", \n",
    "         \"Diff Score\": diff_score, \"Résultat\": \"Gagné\" if eq1_won else \"Perdu\",\"week\": week},\n",
    "        {\"Num Court\": num_court, \"Joueur\": eq1_j2, \"Coéquipier\": eq1_j1, \"Adversaires\": f\"{eq2_j1}, {eq2_j2}\", \n",
    "         \"Diff Score\": diff_score, \"Résultat\": \"Gagné\" if eq1_won else \"Perdu\",\"week\": week},\n",
    "        {\"Num Court\": num_court, \"Joueur\": eq2_j1, \"Coéquipier\": eq2_j2, \"Adversaires\": f\"{eq1_j1}, {eq1_j2}\", \n",
    "         \"Diff Score\": diff_score, \"Résultat\": \"Gagné\" if eq2_won else \"Perdu\",\"week\": week},\n",
    "        {\"Num Court\": num_court, \"Joueur\": eq2_j2, \"Coéquipier\": eq2_j1, \"Adversaires\": f\"{eq1_j1}, {eq1_j2}\", \n",
    "         \"Diff Score\": diff_score, \"Résultat\": \"Gagné\" if eq2_won else \"Perdu\",\"week\": week},\n",
    "    ])\n",
    "\n",
    "# Convertir en DataFrame\n",
    "df_expanded = pd.DataFrame(expanded_rows)\n",
    "df_expanded.loc[df_expanded[\"Résultat\"] == \"Perdu\", \"Diff Score\"] *= -1\n",
    "\n",
    "\n"
   ]
  },
  {
   "cell_type": "code",
   "execution_count": 5,
   "metadata": {},
   "outputs": [
    {
     "data": {
      "text/html": [
       "<div>\n",
       "<style scoped>\n",
       "    .dataframe tbody tr th:only-of-type {\n",
       "        vertical-align: middle;\n",
       "    }\n",
       "\n",
       "    .dataframe tbody tr th {\n",
       "        vertical-align: top;\n",
       "    }\n",
       "\n",
       "    .dataframe thead th {\n",
       "        text-align: right;\n",
       "    }\n",
       "</style>\n",
       "<table border=\"1\" class=\"dataframe\">\n",
       "  <thead>\n",
       "    <tr style=\"text-align: right;\">\n",
       "      <th></th>\n",
       "      <th>Num Court</th>\n",
       "      <th>Joueur</th>\n",
       "      <th>Coéquipier</th>\n",
       "      <th>Adversaires</th>\n",
       "      <th>Diff Score</th>\n",
       "      <th>Résultat</th>\n",
       "      <th>week</th>\n",
       "    </tr>\n",
       "  </thead>\n",
       "  <tbody>\n",
       "    <tr>\n",
       "      <th>0</th>\n",
       "      <td>1</td>\n",
       "      <td>Théophane F.</td>\n",
       "      <td>Clement L.</td>\n",
       "      <td>Simon P., Luis A.</td>\n",
       "      <td>-1</td>\n",
       "      <td>Perdu</td>\n",
       "      <td>1</td>\n",
       "    </tr>\n",
       "    <tr>\n",
       "      <th>276</th>\n",
       "      <td>1</td>\n",
       "      <td>Théophane F.</td>\n",
       "      <td>Clement L.</td>\n",
       "      <td>Jean-Francois C., Luis A.</td>\n",
       "      <td>3</td>\n",
       "      <td>Gagné</td>\n",
       "      <td>3</td>\n",
       "    </tr>\n",
       "    <tr>\n",
       "      <th>377</th>\n",
       "      <td>1</td>\n",
       "      <td>Théophane F.</td>\n",
       "      <td>Clement L.</td>\n",
       "      <td>Jean-Francois C., Thomas L.</td>\n",
       "      <td>3</td>\n",
       "      <td>Gagné</td>\n",
       "      <td>4</td>\n",
       "    </tr>\n",
       "    <tr>\n",
       "      <th>437</th>\n",
       "      <td>1</td>\n",
       "      <td>Théophane F.</td>\n",
       "      <td>Clement L.</td>\n",
       "      <td>Jean-Francois C., Luis A.</td>\n",
       "      <td>6</td>\n",
       "      <td>Gagné</td>\n",
       "      <td>4</td>\n",
       "    </tr>\n",
       "    <tr>\n",
       "      <th>476</th>\n",
       "      <td>1</td>\n",
       "      <td>Théophane F.</td>\n",
       "      <td>Clement L.</td>\n",
       "      <td>Luis A., Félix D.</td>\n",
       "      <td>1</td>\n",
       "      <td>Gagné</td>\n",
       "      <td>5</td>\n",
       "    </tr>\n",
       "  </tbody>\n",
       "</table>\n",
       "</div>"
      ],
      "text/plain": [
       "    Num Court        Joueur  Coéquipier                  Adversaires  \\\n",
       "0           1  Théophane F.  Clement L.            Simon P., Luis A.   \n",
       "276         1  Théophane F.  Clement L.    Jean-Francois C., Luis A.   \n",
       "377         1  Théophane F.  Clement L.  Jean-Francois C., Thomas L.   \n",
       "437         1  Théophane F.  Clement L.    Jean-Francois C., Luis A.   \n",
       "476         1  Théophane F.  Clement L.            Luis A., Félix D.   \n",
       "\n",
       "     Diff Score Résultat  week  \n",
       "0            -1    Perdu     1  \n",
       "276           3    Gagné     3  \n",
       "377           3    Gagné     4  \n",
       "437           6    Gagné     4  \n",
       "476           1    Gagné     5  "
      ]
     },
     "execution_count": 5,
     "metadata": {},
     "output_type": "execute_result"
    }
   ],
   "source": [
    "df_expanded[(df_expanded[\"Joueur\"]==\"Théophane F.\") & (df_expanded[\"Coéquipier\"]==\"Clement L.\")]"
   ]
  },
  {
   "cell_type": "code",
   "execution_count": 6,
   "metadata": {},
   "outputs": [],
   "source": [
    "df_expanded.to_pickle(\"data_preprocess/df_resultat_expanded.pkl\")"
   ]
  },
  {
   "cell_type": "code",
   "execution_count": 7,
   "metadata": {},
   "outputs": [],
   "source": [
    "df_expanded.to_csv(\"data_preprocess/df_resultat_expanded.csv\",index=False)"
   ]
  },
  {
   "cell_type": "code",
   "execution_count": null,
   "metadata": {},
   "outputs": [],
   "source": []
  }
 ],
 "metadata": {
  "kernelspec": {
   "display_name": ".venv",
   "language": "python",
   "name": "python3"
  },
  "language_info": {
   "codemirror_mode": {
    "name": "ipython",
    "version": 3
   },
   "file_extension": ".py",
   "mimetype": "text/x-python",
   "name": "python",
   "nbconvert_exporter": "python",
   "pygments_lexer": "ipython3",
   "version": "3.11.1"
  }
 },
 "nbformat": 4,
 "nbformat_minor": 2
}
