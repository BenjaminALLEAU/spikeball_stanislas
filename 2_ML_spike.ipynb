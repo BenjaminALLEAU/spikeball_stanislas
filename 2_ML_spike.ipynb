{
 "cells": [
  {
   "cell_type": "markdown",
   "metadata": {},
   "source": [
    "# ML_spike\n",
    "- Script pour créer un modèle de prédiction\n",
    "- Auteur : Benjamin ALLEAU / benjamin.fraime@gmail.com"
   ]
  },
  {
   "cell_type": "markdown",
   "metadata": {},
   "source": [
    "# Package"
   ]
  },
  {
   "cell_type": "code",
   "execution_count": 10,
   "metadata": {},
   "outputs": [],
   "source": [
    "import pandas as pd\n",
    "import numpy as np\n",
    "from sklearn.model_selection import train_test_split, GridSearchCV\n",
    "from sklearn.ensemble import RandomForestClassifier\n",
    "from sklearn.metrics import accuracy_score\n",
    "import joblib"
   ]
  },
  {
   "cell_type": "code",
   "execution_count": 11,
   "metadata": {},
   "outputs": [],
   "source": [
    "# Charger le fichier\n",
    "df = pd.read_csv(\"data_preprocess/df_resultat_expanded.csv\")"
   ]
  },
  {
   "cell_type": "code",
   "execution_count": 12,
   "metadata": {},
   "outputs": [
    {
     "data": {
      "text/html": [
       "<div>\n",
       "<style scoped>\n",
       "    .dataframe tbody tr th:only-of-type {\n",
       "        vertical-align: middle;\n",
       "    }\n",
       "\n",
       "    .dataframe tbody tr th {\n",
       "        vertical-align: top;\n",
       "    }\n",
       "\n",
       "    .dataframe thead th {\n",
       "        text-align: right;\n",
       "    }\n",
       "</style>\n",
       "<table border=\"1\" class=\"dataframe\">\n",
       "  <thead>\n",
       "    <tr style=\"text-align: right;\">\n",
       "      <th></th>\n",
       "      <th>Num Court</th>\n",
       "      <th>Joueur</th>\n",
       "      <th>Coéquipier</th>\n",
       "      <th>Adversaires</th>\n",
       "      <th>Diff Score</th>\n",
       "      <th>Résultat</th>\n",
       "      <th>week</th>\n",
       "    </tr>\n",
       "  </thead>\n",
       "  <tbody>\n",
       "    <tr>\n",
       "      <th>0</th>\n",
       "      <td>1</td>\n",
       "      <td>Théophane F.</td>\n",
       "      <td>Clement L.</td>\n",
       "      <td>Simon P., Luis A.</td>\n",
       "      <td>-1</td>\n",
       "      <td>Perdu</td>\n",
       "      <td>1</td>\n",
       "    </tr>\n",
       "    <tr>\n",
       "      <th>1</th>\n",
       "      <td>1</td>\n",
       "      <td>Clement L.</td>\n",
       "      <td>Théophane F.</td>\n",
       "      <td>Simon P., Luis A.</td>\n",
       "      <td>-1</td>\n",
       "      <td>Perdu</td>\n",
       "      <td>1</td>\n",
       "    </tr>\n",
       "    <tr>\n",
       "      <th>2</th>\n",
       "      <td>1</td>\n",
       "      <td>Simon P.</td>\n",
       "      <td>Luis A.</td>\n",
       "      <td>Théophane F., Clement L.</td>\n",
       "      <td>1</td>\n",
       "      <td>Gagné</td>\n",
       "      <td>1</td>\n",
       "    </tr>\n",
       "  </tbody>\n",
       "</table>\n",
       "</div>"
      ],
      "text/plain": [
       "   Num Court        Joueur    Coéquipier               Adversaires  \\\n",
       "0          1  Théophane F.    Clement L.         Simon P., Luis A.   \n",
       "1          1    Clement L.  Théophane F.         Simon P., Luis A.   \n",
       "2          1      Simon P.       Luis A.  Théophane F., Clement L.   \n",
       "\n",
       "   Diff Score Résultat  week  \n",
       "0          -1    Perdu     1  \n",
       "1          -1    Perdu     1  \n",
       "2           1    Gagné     1  "
      ]
     },
     "execution_count": 12,
     "metadata": {},
     "output_type": "execute_result"
    }
   ],
   "source": [
    "df.head(3)"
   ]
  },
  {
   "cell_type": "code",
   "execution_count": 13,
   "metadata": {},
   "outputs": [
    {
     "name": "stdout",
     "output_type": "stream",
     "text": [
      "Fitting 5 folds for each of 16 candidates, totalling 80 fits\n",
      "RandomForestClassifier(max_depth=4, min_samples_leaf=2, min_samples_split=10,\n",
      "                       n_estimators=800, random_state=42)\n",
      "Précision sur les données d'entraînement : 87.73%\n",
      "Précision sur les données de test : 75.00%\n"
     ]
    },
    {
     "data": {
      "text/plain": [
       "['models/terrain_taux_victoire.pkl']"
      ]
     },
     "execution_count": 13,
     "metadata": {},
     "output_type": "execute_result"
    }
   ],
   "source": [
    "# Sélection des colonnes pertinentes\n",
    "df = df[[\"Num Court\", \"Joueur\", \"Coéquipier\", \"Adversaires\", \"Résultat\"]].copy()\n",
    "\n",
    "# Convertir les adversaires en deux colonnes distinctes\n",
    "df[[\"Adversaire_1\", \"Adversaire_2\"]] = df[\"Adversaires\"].str.split(\", \", expand=True)\n",
    "df.drop(columns=[\"Adversaires\"], inplace=True)\n",
    "\n",
    "# Convertir \"Num Court\" en entier\n",
    "df[\"Num Court\"] = pd.to_numeric(df[\"Num Court\"], errors='coerce')\n",
    "df.dropna(subset=[\"Num Court\"], inplace=True)  # Supprimer les lignes avec des valeurs non valides\n",
    "df[\"Num Court\"] = df[\"Num Court\"].astype(int)  # Assurer un type entier\n",
    "\n",
    "# Calcul du terrain moyen pour chaque joueur\n",
    "terrain_moyen = df.groupby(\"Joueur\")[\"Num Court\"].mean()\n",
    "\n",
    "# Calcul du taux de victoire moyen pour chaque joueur\n",
    "taux_victoire = df.groupby(\"Joueur\")[\"Résultat\"].apply(lambda x: (x == \"Gagné\").mean())\n",
    "\n",
    "def get_terrain_moyen(joueur):\n",
    "    return terrain_moyen.get(joueur, df[\"Num Court\"].mean())  # Valeur moyenne si joueur inconnu\n",
    "\n",
    "def get_taux_victoire(joueur):\n",
    "    return taux_victoire.get(joueur, 0.5)  # 50% par défaut si inconnu\n",
    "\n",
    "# Ajouter les terrains moyens et taux de victoire des équipes\n",
    "df[\"Terrain_Moyen_Equipe\"] = df[[\"Joueur\", \"Coéquipier\"]].apply(lambda row: np.mean([get_terrain_moyen(row[\"Joueur\"]), get_terrain_moyen(row[\"Coéquipier\"])]), axis=1)\n",
    "df[\"Terrain_Moyen_Adversaires\"] = df[[\"Adversaire_1\", \"Adversaire_2\"]].apply(lambda row: np.mean([get_terrain_moyen(row[\"Adversaire_1\"]), get_terrain_moyen(row[\"Adversaire_2\"])]), axis=1)\n",
    "df[\"Taux_Victoire_Equipe\"] = df[[\"Joueur\", \"Coéquipier\"]].apply(lambda row: np.mean([get_taux_victoire(row[\"Joueur\"]), get_taux_victoire(row[\"Coéquipier\"])]), axis=1)\n",
    "df[\"Taux_Victoire_Adversaires\"] = df[[\"Adversaire_1\", \"Adversaire_2\"]].apply(lambda row: np.mean([get_taux_victoire(row[\"Adversaire_1\"]), get_taux_victoire(row[\"Adversaire_2\"])]), axis=1)\n",
    "\n",
    "# Sélection des variables d'entrée\n",
    "X = df[[\"Terrain_Moyen_Equipe\", \"Terrain_Moyen_Adversaires\", \"Taux_Victoire_Equipe\", \"Taux_Victoire_Adversaires\"]]\n",
    "y = df[\"Résultat\"].map({\"Gagné\": 1, \"Perdu\": 0})  # 1 = victoire, 0 = défaite\n",
    "\n",
    "# Séparer les données en train et test\n",
    "s80 = 440\n",
    "X_train = X.iloc[:s80]\n",
    "X_test = X.iloc[s80:]\n",
    "y_train = y.iloc[:s80]\n",
    "y_test = y.iloc[s80:]\n",
    "\n",
    "# Optimisation des hyperparamètres avec GridSearchCV\n",
    "param_grid = {\n",
    "    'n_estimators': [800],\n",
    "    'max_depth': [None, 2, 4,8],\n",
    "    'min_samples_split': [5, 10],\n",
    "    'min_samples_leaf': [2, 4]\n",
    "}\n",
    "\n",
    "grid_search = GridSearchCV(RandomForestClassifier(random_state=42), param_grid, cv=5, n_jobs=-1, verbose=1)\n",
    "grid_search.fit(X_train, y_train)\n",
    "\n",
    "# Meilleur modèle optimisé\n",
    "model = grid_search.best_estimator_\n",
    "print(model)\n",
    "\n",
    "# Prédictions et évaluation\n",
    "y_train_pred = model.predict(X_train)\n",
    "y_test_pred = model.predict(X_test)\n",
    "train_accuracy = accuracy_score(y_train, y_train_pred)\n",
    "test_accuracy = accuracy_score(y_test, y_test_pred)\n",
    "print(f\"Précision sur les données d'entraînement : {train_accuracy * 100:.2f}%\")\n",
    "print(f\"Précision sur les données de test : {test_accuracy * 100:.2f}%\")\n",
    "\n",
    "# Sauvegarde du modèle\n",
    "joblib.dump(model, \"models/match_prediction_model.pkl\")\n",
    "joblib.dump((terrain_moyen, taux_victoire), \"models/terrain_taux_victoire.pkl\")\n"
   ]
  },
  {
   "cell_type": "code",
   "execution_count": 14,
   "metadata": {},
   "outputs": [
    {
     "name": "stdout",
     "output_type": "stream",
     "text": [
      "Probabilité de victoire de Théophane F. et Clément L. contre Luis A. et Nil M. : 55.38%\n"
     ]
    },
    {
     "name": "stderr",
     "output_type": "stream",
     "text": [
      "c:\\Users\\benal\\Documents\\travail\\spike\\.venv\\Lib\\site-packages\\sklearn\\base.py:493: UserWarning: X does not have valid feature names, but RandomForestClassifier was fitted with feature names\n",
      "  warnings.warn(\n"
     ]
    }
   ],
   "source": [
    "# Fonction pour prédire un match\n",
    "def predire_match(joueur1, coequipier, adversaire1, adversaire2):\n",
    "    \"\"\"Prédit la probabilité de victoire en utilisant les terrains moyens et taux de victoire des équipes.\"\"\"\n",
    "    \n",
    "    # Charger le modèle et les données\n",
    "    model = joblib.load(\"models/match_prediction_model.pkl\")\n",
    "    terrain_moyen, taux_victoire = joblib.load(\"models/terrain_taux_victoire.pkl\")\n",
    "    \n",
    "    # Récupérer les terrains moyens et taux de victoire\n",
    "    terrain_equipe = np.mean([get_terrain_moyen(joueur1), get_terrain_moyen(coequipier)])\n",
    "    terrain_adversaires = np.mean([get_terrain_moyen(adversaire1), get_terrain_moyen(adversaire2)])\n",
    "    taux_victoire_equipe = np.mean([get_taux_victoire(joueur1), get_taux_victoire(coequipier)])\n",
    "    taux_victoire_adversaires = np.mean([get_taux_victoire(adversaire1), get_taux_victoire(adversaire2)])\n",
    "    \n",
    "    # Créer l'entrée\n",
    "    input_data = np.array([[terrain_equipe, terrain_adversaires, taux_victoire_equipe, taux_victoire_adversaires]])\n",
    "    \n",
    "    # Prédiction\n",
    "    prob = model.predict_proba(input_data)[0][1]  # Probabilité de victoire\n",
    "    \n",
    "    return f\"Probabilité de victoire de {joueur1} et {coequipier} contre {adversaire1} et {adversaire2} : {prob * 100:.2f}%\"\n",
    "\n",
    "# Exemple d'utilisation\n",
    "print(predire_match(\"Théophane F.\", \"Clément L.\", \"Luis A.\", \"Nil M.\"))"
   ]
  },
  {
   "cell_type": "code",
   "execution_count": 15,
   "metadata": {},
   "outputs": [
    {
     "name": "stderr",
     "output_type": "stream",
     "text": [
      "c:\\Users\\benal\\Documents\\travail\\spike\\.venv\\Lib\\site-packages\\sklearn\\base.py:493: UserWarning: X does not have valid feature names, but RandomForestClassifier was fitted with feature names\n",
      "  warnings.warn(\n"
     ]
    },
    {
     "name": "stdout",
     "output_type": "stream",
     "text": [
      "Probabilité de victoire de Théophane F. et Clément L. contre Caroline N. et Benjamin A. : 78.46%\n"
     ]
    }
   ],
   "source": [
    "# Exemple d'utilisation\n",
    "print(predire_match( 'Théophane F.', \"Clément L.\", \"Caroline N.\", \"Benjamin A.\"))"
   ]
  },
  {
   "cell_type": "code",
   "execution_count": 16,
   "metadata": {},
   "outputs": [
    {
     "data": {
      "text/html": [
       "<div>\n",
       "<style scoped>\n",
       "    .dataframe tbody tr th:only-of-type {\n",
       "        vertical-align: middle;\n",
       "    }\n",
       "\n",
       "    .dataframe tbody tr th {\n",
       "        vertical-align: top;\n",
       "    }\n",
       "\n",
       "    .dataframe thead th {\n",
       "        text-align: right;\n",
       "    }\n",
       "</style>\n",
       "<table border=\"1\" class=\"dataframe\">\n",
       "  <thead>\n",
       "    <tr style=\"text-align: right;\">\n",
       "      <th></th>\n",
       "      <th>Num Court</th>\n",
       "      <th>Joueur</th>\n",
       "      <th>Coéquipier</th>\n",
       "      <th>Résultat</th>\n",
       "      <th>Adversaire_1</th>\n",
       "      <th>Adversaire_2</th>\n",
       "      <th>Terrain_Moyen_Equipe</th>\n",
       "      <th>Terrain_Moyen_Adversaires</th>\n",
       "      <th>Taux_Victoire_Equipe</th>\n",
       "      <th>Taux_Victoire_Adversaires</th>\n",
       "    </tr>\n",
       "  </thead>\n",
       "  <tbody>\n",
       "    <tr>\n",
       "      <th>0</th>\n",
       "      <td>1</td>\n",
       "      <td>Théophane F.</td>\n",
       "      <td>Clement L.</td>\n",
       "      <td>Perdu</td>\n",
       "      <td>Simon P.</td>\n",
       "      <td>Luis A.</td>\n",
       "      <td>1.1750</td>\n",
       "      <td>1.0625</td>\n",
       "      <td>0.700000</td>\n",
       "      <td>0.541667</td>\n",
       "    </tr>\n",
       "    <tr>\n",
       "      <th>1</th>\n",
       "      <td>1</td>\n",
       "      <td>Clement L.</td>\n",
       "      <td>Théophane F.</td>\n",
       "      <td>Perdu</td>\n",
       "      <td>Simon P.</td>\n",
       "      <td>Luis A.</td>\n",
       "      <td>1.1750</td>\n",
       "      <td>1.0625</td>\n",
       "      <td>0.700000</td>\n",
       "      <td>0.541667</td>\n",
       "    </tr>\n",
       "    <tr>\n",
       "      <th>2</th>\n",
       "      <td>1</td>\n",
       "      <td>Simon P.</td>\n",
       "      <td>Luis A.</td>\n",
       "      <td>Gagné</td>\n",
       "      <td>Théophane F.</td>\n",
       "      <td>Clement L.</td>\n",
       "      <td>1.0625</td>\n",
       "      <td>1.1750</td>\n",
       "      <td>0.541667</td>\n",
       "      <td>0.700000</td>\n",
       "    </tr>\n",
       "    <tr>\n",
       "      <th>3</th>\n",
       "      <td>1</td>\n",
       "      <td>Luis A.</td>\n",
       "      <td>Simon P.</td>\n",
       "      <td>Gagné</td>\n",
       "      <td>Théophane F.</td>\n",
       "      <td>Clement L.</td>\n",
       "      <td>1.0625</td>\n",
       "      <td>1.1750</td>\n",
       "      <td>0.541667</td>\n",
       "      <td>0.700000</td>\n",
       "    </tr>\n",
       "  </tbody>\n",
       "</table>\n",
       "</div>"
      ],
      "text/plain": [
       "   Num Court        Joueur    Coéquipier Résultat  Adversaire_1 Adversaire_2  \\\n",
       "0          1  Théophane F.    Clement L.    Perdu      Simon P.      Luis A.   \n",
       "1          1    Clement L.  Théophane F.    Perdu      Simon P.      Luis A.   \n",
       "2          1      Simon P.       Luis A.    Gagné  Théophane F.   Clement L.   \n",
       "3          1       Luis A.      Simon P.    Gagné  Théophane F.   Clement L.   \n",
       "\n",
       "   Terrain_Moyen_Equipe  Terrain_Moyen_Adversaires  Taux_Victoire_Equipe  \\\n",
       "0                1.1750                     1.0625              0.700000   \n",
       "1                1.1750                     1.0625              0.700000   \n",
       "2                1.0625                     1.1750              0.541667   \n",
       "3                1.0625                     1.1750              0.541667   \n",
       "\n",
       "   Taux_Victoire_Adversaires  \n",
       "0                   0.541667  \n",
       "1                   0.541667  \n",
       "2                   0.700000  \n",
       "3                   0.700000  "
      ]
     },
     "execution_count": 16,
     "metadata": {},
     "output_type": "execute_result"
    }
   ],
   "source": [
    "df.head(4)"
   ]
  }
 ],
 "metadata": {
  "kernelspec": {
   "display_name": ".venv",
   "language": "python",
   "name": "python3"
  },
  "language_info": {
   "codemirror_mode": {
    "name": "ipython",
    "version": 3
   },
   "file_extension": ".py",
   "mimetype": "text/x-python",
   "name": "python",
   "nbconvert_exporter": "python",
   "pygments_lexer": "ipython3",
   "version": "3.11.1"
  }
 },
 "nbformat": 4,
 "nbformat_minor": 2
}
